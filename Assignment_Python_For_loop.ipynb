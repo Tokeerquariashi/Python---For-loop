{
  "nbformat": 4,
  "nbformat_minor": 0,
  "metadata": {
    "colab": {
      "provenance": []
    },
    "kernelspec": {
      "name": "python3",
      "display_name": "Python 3"
    },
    "language_info": {
      "name": "python"
    }
  },
  "cells": [
    {
      "cell_type": "code",
      "execution_count": 1,
      "metadata": {
        "id": "OmdUWkN3IppL"
      },
      "outputs": [],
      "source": [
        "#Basic Level:"
      ]
    },
    {
      "cell_type": "code",
      "source": [
        "#1. Write a Python program to print the numbers from 1 to 10 using a `for` loop.\n",
        "# Using a for loop to print numbers from 1 to 10\n",
        "for number in range(1, 11):\n",
        "    print(number)\n"
      ],
      "metadata": {
        "colab": {
          "base_uri": "https://localhost:8080/"
        },
        "id": "mxmJqVSDI4h-",
        "outputId": "340c1a4b-eaf0-4580-8180-2821b7f6a6ce"
      },
      "execution_count": 2,
      "outputs": [
        {
          "output_type": "stream",
          "name": "stdout",
          "text": [
            "1\n",
            "2\n",
            "3\n",
            "4\n",
            "5\n",
            "6\n",
            "7\n",
            "8\n",
            "9\n",
            "10\n"
          ]
        }
      ]
    },
    {
      "cell_type": "code",
      "source": [
        "#2. Create a program that calculates the sum of all numbers in a list using a `for` loop.\n",
        "# List of numbers\n",
        "numbers = [1, 2, 3, 4, 5, 6, 7, 8, 9, 10]\n",
        "\n",
        "# Initializing the sum variable\n",
        "total_sum = 0\n",
        "\n",
        "# Using a for loop to iterate through the list and calculate the sum\n",
        "for number in numbers:\n",
        "    total_sum += number\n",
        "\n",
        "# Displaying the result\n",
        "print(\"The sum of all numbers in the list is:\", total_sum)\n"
      ],
      "metadata": {
        "colab": {
          "base_uri": "https://localhost:8080/"
        },
        "id": "slinM0NwJAeN",
        "outputId": "dc398c5e-b2d3-4892-df60-c9a5e0b0a51d"
      },
      "execution_count": 3,
      "outputs": [
        {
          "output_type": "stream",
          "name": "stdout",
          "text": [
            "The sum of all numbers in the list is: 55\n"
          ]
        }
      ]
    },
    {
      "cell_type": "code",
      "source": [
        "#Write a program to print the characters of a string in reverse order using a `for` loop.\n",
        "# Taking user input\n",
        "user_string = input(\"Enter a string: \")\n",
        "\n",
        "# Using a for loop to iterate through the string in reverse order\n",
        "for char in reversed(user_string):\n",
        "    print(char, end=\"\")\n"
      ],
      "metadata": {
        "colab": {
          "base_uri": "https://localhost:8080/"
        },
        "id": "lkz5DaiQJGj1",
        "outputId": "08730187-1ec1-4104-94ec-139066e31a24"
      },
      "execution_count": 4,
      "outputs": [
        {
          "output_type": "stream",
          "name": "stdout",
          "text": [
            "Enter a string: python\n",
            "nohtyp"
          ]
        }
      ]
    },
    {
      "cell_type": "code",
      "source": [
        "#Write a program to print the characters of a string in reverse order using a `for` loop.\n",
        "# Taking user input\n",
        "user_string = input(\"Enter a string: \")\n",
        "\n",
        "# Using a for loop to iterate through the string in reverse order\n",
        "for i in range(len(user_string)-1, -1, -1):\n",
        "    print(user_string[i], end=\"\")\n"
      ],
      "metadata": {
        "colab": {
          "base_uri": "https://localhost:8080/"
        },
        "id": "oH344yMwJNtN",
        "outputId": "7d2329ae-9fdd-46a5-adb0-29d42431dbdd"
      },
      "execution_count": 5,
      "outputs": [
        {
          "output_type": "stream",
          "name": "stdout",
          "text": [
            "Enter a string: python\n",
            "nohtyp"
          ]
        }
      ]
    },
    {
      "cell_type": "code",
      "source": [
        "#4. Develop a program that finds the factorial of a given number using a `for` loop.\n",
        "# Taking user input\n",
        "number = int(input(\"Enter a number: \"))\n",
        "\n",
        "# Initializing the result to 1\n",
        "factorial = 1\n",
        "\n",
        "# Using a for loop to calculate the factorial\n",
        "for i in range(1, number + 1):\n",
        "    factorial *= i\n",
        "\n",
        "# Displaying the result\n",
        "print(f\"The factorial of {number} is: {factorial}\")\n"
      ],
      "metadata": {
        "colab": {
          "base_uri": "https://localhost:8080/"
        },
        "id": "dlKU0Q5uJflc",
        "outputId": "41dfc5f4-ad5b-4e24-f043-7ed427cd848a"
      },
      "execution_count": 6,
      "outputs": [
        {
          "output_type": "stream",
          "name": "stdout",
          "text": [
            "Enter a number: 5\n",
            "The factorial of 5 is: 120\n"
          ]
        }
      ]
    },
    {
      "cell_type": "code",
      "source": [
        "#5. Create a program to print the multiplication table of a given number using a `for` loop.\n",
        "# Taking user input\n",
        "number = int(input(\"Enter a number to print its multiplication table: \"))\n",
        "\n",
        "# Using a for loop to print the multiplication table\n",
        "for i in range(1, 11):\n",
        "    print(f\"{number} x {i} = {number * i}\")\n"
      ],
      "metadata": {
        "colab": {
          "base_uri": "https://localhost:8080/"
        },
        "id": "vHqLWf4yJoC-",
        "outputId": "78febab5-99ea-4dca-c7eb-071af245a069"
      },
      "execution_count": 7,
      "outputs": [
        {
          "output_type": "stream",
          "name": "stdout",
          "text": [
            "Enter a number to print its multiplication table: 7\n",
            "7 x 1 = 7\n",
            "7 x 2 = 14\n",
            "7 x 3 = 21\n",
            "7 x 4 = 28\n",
            "7 x 5 = 35\n",
            "7 x 6 = 42\n",
            "7 x 7 = 49\n",
            "7 x 8 = 56\n",
            "7 x 9 = 63\n",
            "7 x 10 = 70\n"
          ]
        }
      ]
    },
    {
      "cell_type": "code",
      "source": [
        "#6. Write a program that counts the number of even and odd numbers in a list using a `for` loop.\n",
        "# List of numbers\n",
        "numbers = [1, 2, 3, 4, 5, 6, 7, 8, 9, 10]\n",
        "\n",
        "# Initializing counters for even and odd numbers\n",
        "even_count = 0\n",
        "odd_count = 0\n",
        "\n",
        "# Using a for loop to iterate through the list and count even and odd numbers\n",
        "for number in numbers:\n",
        "    if number % 2 == 0:\n",
        "        even_count += 1\n",
        "    else:\n",
        "        odd_count += 1\n",
        "\n",
        "# Displaying the result\n",
        "print(f\"Even numbers: {even_count}\")\n",
        "print(f\"Odd numbers: {odd_count}\")\n"
      ],
      "metadata": {
        "colab": {
          "base_uri": "https://localhost:8080/"
        },
        "id": "JZsK0FoHJvw8",
        "outputId": "29bf6a78-2653-43e3-b861-5dea3aecce17"
      },
      "execution_count": 8,
      "outputs": [
        {
          "output_type": "stream",
          "name": "stdout",
          "text": [
            "Even numbers: 5\n",
            "Odd numbers: 5\n"
          ]
        }
      ]
    },
    {
      "cell_type": "code",
      "source": [
        "#7. Develop a program that prints the squares of numbers from 1 to 5 using a `for` loop.\n",
        "# Using a for loop to print the squares of numbers from 1 to 5\n",
        "for number in range(1, 6):\n",
        "    print(f\"The square of {number} is {number ** 2}\")\n"
      ],
      "metadata": {
        "colab": {
          "base_uri": "https://localhost:8080/"
        },
        "id": "kXMGr1d4J2_U",
        "outputId": "5f00cef0-1c32-4270-ea19-3c6479386530"
      },
      "execution_count": 9,
      "outputs": [
        {
          "output_type": "stream",
          "name": "stdout",
          "text": [
            "The square of 1 is 1\n",
            "The square of 2 is 4\n",
            "The square of 3 is 9\n",
            "The square of 4 is 16\n",
            "The square of 5 is 25\n"
          ]
        }
      ]
    },
    {
      "cell_type": "code",
      "source": [
        "#8. Create a program to find the length of a string without using the `len()` function.\n",
        "# Taking user input\n",
        "user_string = input(\"Enter a string: \")\n",
        "\n",
        "# Initializing a counter\n",
        "length = 0\n",
        "\n",
        "# Using a for loop to count each character in the string\n",
        "for char in user_string:\n",
        "    length += 1\n",
        "\n",
        "# Displaying the length of the string\n",
        "print(\"The length of the string is:\", length)\n"
      ],
      "metadata": {
        "colab": {
          "base_uri": "https://localhost:8080/"
        },
        "id": "eO0flhkrJ9a0",
        "outputId": "d511d241-8052-49c3-a6d8-250df444ce52"
      },
      "execution_count": 10,
      "outputs": [
        {
          "output_type": "stream",
          "name": "stdout",
          "text": [
            "Enter a string: python\n",
            "The length of the string is: 6\n"
          ]
        }
      ]
    },
    {
      "cell_type": "code",
      "source": [
        "#9. Write a program that calculates the average of a list of numbers using a `for` loop.\n",
        "# List of numbers\n",
        "numbers = [10, 20, 30, 40, 50]\n",
        "\n",
        "# Initializing the sum variable\n",
        "total_sum = 0\n",
        "\n",
        "# Using a for loop to calculate the sum of numbers in the list\n",
        "for number in numbers:\n",
        "    total_sum += number\n",
        "\n",
        "# Calculating the average\n",
        "average = total_sum / len(numbers)\n",
        "\n",
        "# Displaying the result\n",
        "print(\"The average of the numbers is:\", average)\n"
      ],
      "metadata": {
        "colab": {
          "base_uri": "https://localhost:8080/"
        },
        "id": "oQCdHiDAKG3s",
        "outputId": "9740d9b1-f197-402e-d1ff-8cfd2ddc3e9b"
      },
      "execution_count": 11,
      "outputs": [
        {
          "output_type": "stream",
          "name": "stdout",
          "text": [
            "The average of the numbers is: 30.0\n"
          ]
        }
      ]
    },
    {
      "cell_type": "code",
      "source": [
        "#10. Develop a program that prints the first `n` Fibonacci numbers using a `for` loop.\n",
        "# Taking user input for the number of Fibonacci numbers to print\n",
        "n = int(input(\"Enter the number of Fibonacci numbers to print: \"))\n",
        "\n",
        "# Initializing the first two Fibonacci numbers\n",
        "a, b = 0, 1\n",
        "\n",
        "# Using a for loop to print the first n Fibonacci numbers\n",
        "for _ in range(n):\n",
        "    print(a, end=\" \")\n",
        "    a, b = b, a + b  # Update a and b to the next two Fibonacci numbers\n"
      ],
      "metadata": {
        "colab": {
          "base_uri": "https://localhost:8080/"
        },
        "id": "pLadiyyGKOVF",
        "outputId": "c5a0a3b5-9581-4945-fbab-b8efccda02c0"
      },
      "execution_count": 12,
      "outputs": [
        {
          "output_type": "stream",
          "name": "stdout",
          "text": [
            "Enter the number of Fibonacci numbers to print: 7\n",
            "0 1 1 2 3 5 8 "
          ]
        }
      ]
    },
    {
      "cell_type": "code",
      "source": [
        "#Intermediate Level:"
      ],
      "metadata": {
        "id": "dWOz2fn6KWMM"
      },
      "execution_count": null,
      "outputs": []
    },
    {
      "cell_type": "code",
      "source": [
        "#11. Write a program to check if a given list contains any duplicates using a `for` loop.\n",
        "# List of elements\n",
        "elements = [1, 2, 3, 4, 5, 6, 2]\n",
        "\n",
        "# Using a for loop to check for duplicates\n",
        "seen = set()  # Set to keep track of unique elements\n",
        "has_duplicates = False\n",
        "\n",
        "for element in elements:\n",
        "    if element in seen:\n",
        "        has_duplicates = True\n",
        "        break\n",
        "    seen.add(element)\n",
        "\n",
        "# Display the result\n",
        "if has_duplicates:\n",
        "    print(\"The list contains duplicates.\")\n",
        "else:\n",
        "    print(\"The list does not contain duplicates.\")\n"
      ],
      "metadata": {
        "colab": {
          "base_uri": "https://localhost:8080/"
        },
        "id": "y7w68mUkKZOS",
        "outputId": "bc77a6c2-0646-4210-f8a5-af1e1218822a"
      },
      "execution_count": 13,
      "outputs": [
        {
          "output_type": "stream",
          "name": "stdout",
          "text": [
            "The list contains duplicates.\n"
          ]
        }
      ]
    },
    {
      "cell_type": "code",
      "source": [
        "#12. Create a program that prints the prime numbers in a given range using a `for` loop.\n",
        "# Taking user input for the range\n",
        "start = int(input(\"Enter the start of the range: \"))\n",
        "end = int(input(\"Enter the end of the range: \"))\n",
        "\n",
        "# Function to check if a number is prime\n",
        "def is_prime(num):\n",
        "    if num <= 1:\n",
        "        return False\n",
        "    for i in range(2, int(num ** 0.5) + 1):\n",
        "        if num % i == 0:\n",
        "            return False\n",
        "    return True\n",
        "\n",
        "# Using a for loop to find and print prime numbers in the given range\n",
        "print(f\"Prime numbers between {start} and {end} are:\")\n",
        "for number in range(start, end + 1):\n",
        "    if is_prime(number):\n",
        "        print(number, end=\" \")\n"
      ],
      "metadata": {
        "colab": {
          "base_uri": "https://localhost:8080/"
        },
        "id": "j4V7ANx9KgOT",
        "outputId": "17cb6133-b313-4866-92e3-55efa404a21f"
      },
      "execution_count": 14,
      "outputs": [
        {
          "output_type": "stream",
          "name": "stdout",
          "text": [
            "Enter the start of the range: 10\n",
            "Enter the end of the range: 10\n",
            "Prime numbers between 10 and 10 are:\n"
          ]
        }
      ]
    },
    {
      "cell_type": "code",
      "source": [
        "#13. Develop a program that counts the number of vowels in a string using a `for` loop.\n",
        "# Taking user input for the string\n",
        "user_string = input(\"Enter a string: \")\n",
        "\n",
        "# Defining the set of vowels\n",
        "vowels = \"aeiouAEIOU\"\n",
        "\n",
        "# Initializing a counter for vowels\n",
        "vowel_count = 0\n",
        "\n",
        "# Using a for loop to count the vowels in the string\n",
        "for char in user_string:\n",
        "    if char in vowels:\n",
        "        vowel_count += 1\n",
        "\n",
        "# Displaying the result\n",
        "print(f\"The number of vowels in the string is: {vowel_count}\")\n"
      ],
      "metadata": {
        "colab": {
          "base_uri": "https://localhost:8080/"
        },
        "id": "tqf97tqzKq5j",
        "outputId": "fbc2b4fd-9c84-4b0f-cc1a-c96cc1528e98"
      },
      "execution_count": 15,
      "outputs": [
        {
          "output_type": "stream",
          "name": "stdout",
          "text": [
            "Enter a string: Hello World\n",
            "The number of vowels in the string is: 3\n"
          ]
        }
      ]
    },
    {
      "cell_type": "code",
      "source": [
        "#14. Write a program to find the maximum element in a 2D list using a nested `for` loop.\n",
        "# 2D list (list of lists)\n",
        "matrix = [\n",
        "    [1, 2, 3],\n",
        "    [4, 5, 6],\n",
        "    [7, 8, 9]\n",
        "]\n",
        "\n",
        "# Initializing the maximum element to a very small number\n",
        "max_element = float('-inf')\n",
        "\n",
        "# Using a nested for loop to find the maximum element\n",
        "for row in matrix:\n",
        "    for element in row:\n",
        "        if element > max_element:\n",
        "            max_element = element\n",
        "\n",
        "# Displaying the result\n",
        "print(f\"The maximum element in the 2D list is: {max_element}\")\n"
      ],
      "metadata": {
        "colab": {
          "base_uri": "https://localhost:8080/"
        },
        "id": "CVyXr18EKzpb",
        "outputId": "9b79454c-e123-4ffc-96a3-55a275725ad2"
      },
      "execution_count": 16,
      "outputs": [
        {
          "output_type": "stream",
          "name": "stdout",
          "text": [
            "The maximum element in the 2D list is: 9\n"
          ]
        }
      ]
    },
    {
      "cell_type": "code",
      "source": [
        "#15. Create a program that removes all occurrences of a specific element from a list using a `for` loop.\n",
        "# List of elements\n",
        "elements = [1, 2, 3, 4, 2, 5, 2, 6]\n",
        "\n",
        "# Element to be removed\n",
        "element_to_remove = 2\n",
        "\n",
        "# Using a for loop to create a new list without the specific element\n",
        "new_list = []\n",
        "for element in elements:\n",
        "    if element != element_to_remove:\n",
        "        new_list.append(element)\n",
        "\n",
        "# Displaying the modified list\n",
        "print(\"List after removing all occurrences of\", element_to_remove, \":\", new_list)\n"
      ],
      "metadata": {
        "colab": {
          "base_uri": "https://localhost:8080/"
        },
        "id": "TIoUlWU6LhWK",
        "outputId": "d8b1d23c-29bf-4259-c894-304c3e7c0886"
      },
      "execution_count": 17,
      "outputs": [
        {
          "output_type": "stream",
          "name": "stdout",
          "text": [
            "List after removing all occurrences of 2 : [1, 3, 4, 5, 6]\n"
          ]
        }
      ]
    },
    {
      "cell_type": "code",
      "source": [
        "#16. Develop a program that generates a multiplication table for numbers from 1 to 5 using a nested `for` loop.\n",
        "# Generating multiplication tables for numbers 1 to 5\n",
        "for i in range(1, 6):\n",
        "    print(f\"Multiplication table for {i}:\")\n",
        "    for j in range(1, 11):\n",
        "        print(f\"{i} x {j} = {i * j}\")\n",
        "    print()  # New line after each table\n"
      ],
      "metadata": {
        "colab": {
          "base_uri": "https://localhost:8080/"
        },
        "id": "3n7ZP1mKNwmW",
        "outputId": "6f31e3d8-2350-475e-971a-ddb30857e3ea"
      },
      "execution_count": 18,
      "outputs": [
        {
          "output_type": "stream",
          "name": "stdout",
          "text": [
            "Multiplication table for 1:\n",
            "1 x 1 = 1\n",
            "1 x 2 = 2\n",
            "1 x 3 = 3\n",
            "1 x 4 = 4\n",
            "1 x 5 = 5\n",
            "1 x 6 = 6\n",
            "1 x 7 = 7\n",
            "1 x 8 = 8\n",
            "1 x 9 = 9\n",
            "1 x 10 = 10\n",
            "\n",
            "Multiplication table for 2:\n",
            "2 x 1 = 2\n",
            "2 x 2 = 4\n",
            "2 x 3 = 6\n",
            "2 x 4 = 8\n",
            "2 x 5 = 10\n",
            "2 x 6 = 12\n",
            "2 x 7 = 14\n",
            "2 x 8 = 16\n",
            "2 x 9 = 18\n",
            "2 x 10 = 20\n",
            "\n",
            "Multiplication table for 3:\n",
            "3 x 1 = 3\n",
            "3 x 2 = 6\n",
            "3 x 3 = 9\n",
            "3 x 4 = 12\n",
            "3 x 5 = 15\n",
            "3 x 6 = 18\n",
            "3 x 7 = 21\n",
            "3 x 8 = 24\n",
            "3 x 9 = 27\n",
            "3 x 10 = 30\n",
            "\n",
            "Multiplication table for 4:\n",
            "4 x 1 = 4\n",
            "4 x 2 = 8\n",
            "4 x 3 = 12\n",
            "4 x 4 = 16\n",
            "4 x 5 = 20\n",
            "4 x 6 = 24\n",
            "4 x 7 = 28\n",
            "4 x 8 = 32\n",
            "4 x 9 = 36\n",
            "4 x 10 = 40\n",
            "\n",
            "Multiplication table for 5:\n",
            "5 x 1 = 5\n",
            "5 x 2 = 10\n",
            "5 x 3 = 15\n",
            "5 x 4 = 20\n",
            "5 x 5 = 25\n",
            "5 x 6 = 30\n",
            "5 x 7 = 35\n",
            "5 x 8 = 40\n",
            "5 x 9 = 45\n",
            "5 x 10 = 50\n",
            "\n"
          ]
        }
      ]
    },
    {
      "cell_type": "code",
      "source": [
        "#16. Develop a program that generates a multiplication table for numbers from 1 to 5 using a nested `for` loop.\n",
        "# Generating multiplication tables for numbers 1 to 5\n",
        "for i in range(1, 6):\n",
        "    print(f\"Multiplication Table for {i}:\")\n",
        "    for j in range(1, 11):\n",
        "        print(f\"{i} x {j} = {i * j}\")\n",
        "    print()  # Print a newline after each table for better readability\n"
      ],
      "metadata": {
        "colab": {
          "base_uri": "https://localhost:8080/"
        },
        "id": "i5c6aaB4N3FJ",
        "outputId": "d0b650cc-37c8-432e-d28b-3d45fec2b869"
      },
      "execution_count": 19,
      "outputs": [
        {
          "output_type": "stream",
          "name": "stdout",
          "text": [
            "Multiplication Table for 1:\n",
            "1 x 1 = 1\n",
            "1 x 2 = 2\n",
            "1 x 3 = 3\n",
            "1 x 4 = 4\n",
            "1 x 5 = 5\n",
            "1 x 6 = 6\n",
            "1 x 7 = 7\n",
            "1 x 8 = 8\n",
            "1 x 9 = 9\n",
            "1 x 10 = 10\n",
            "\n",
            "Multiplication Table for 2:\n",
            "2 x 1 = 2\n",
            "2 x 2 = 4\n",
            "2 x 3 = 6\n",
            "2 x 4 = 8\n",
            "2 x 5 = 10\n",
            "2 x 6 = 12\n",
            "2 x 7 = 14\n",
            "2 x 8 = 16\n",
            "2 x 9 = 18\n",
            "2 x 10 = 20\n",
            "\n",
            "Multiplication Table for 3:\n",
            "3 x 1 = 3\n",
            "3 x 2 = 6\n",
            "3 x 3 = 9\n",
            "3 x 4 = 12\n",
            "3 x 5 = 15\n",
            "3 x 6 = 18\n",
            "3 x 7 = 21\n",
            "3 x 8 = 24\n",
            "3 x 9 = 27\n",
            "3 x 10 = 30\n",
            "\n",
            "Multiplication Table for 4:\n",
            "4 x 1 = 4\n",
            "4 x 2 = 8\n",
            "4 x 3 = 12\n",
            "4 x 4 = 16\n",
            "4 x 5 = 20\n",
            "4 x 6 = 24\n",
            "4 x 7 = 28\n",
            "4 x 8 = 32\n",
            "4 x 9 = 36\n",
            "4 x 10 = 40\n",
            "\n",
            "Multiplication Table for 5:\n",
            "5 x 1 = 5\n",
            "5 x 2 = 10\n",
            "5 x 3 = 15\n",
            "5 x 4 = 20\n",
            "5 x 5 = 25\n",
            "5 x 6 = 30\n",
            "5 x 7 = 35\n",
            "5 x 8 = 40\n",
            "5 x 9 = 45\n",
            "5 x 10 = 50\n",
            "\n"
          ]
        }
      ]
    },
    {
      "cell_type": "code",
      "source": [
        "#17. Write a program that converts a list of Fahrenheit temperatures to Celsius using a `for` loop.\n",
        "# List of temperatures in Fahrenheit\n",
        "fahrenheit_temperatures = [32, 45, 50, 72, 100, 212]\n",
        "\n",
        "# List to store the converted temperatures in Celsius\n",
        "celsius_temperatures = []\n",
        "\n",
        "# Conversion formula: Celsius = (Fahrenheit - 32) * 5/9\n",
        "for temp_f in fahrenheit_temperatures:\n",
        "    temp_c = (temp_f - 32) * 5/9\n",
        "    celsius_temperatures.append(temp_c)\n",
        "\n",
        "# Displaying the converted temperatures\n",
        "print(\"Fahrenheit temperatures:\", fahrenheit_temperatures)\n",
        "print(\"Celsius temperatures:\", celsius_temperatures)\n"
      ],
      "metadata": {
        "colab": {
          "base_uri": "https://localhost:8080/"
        },
        "id": "mAnw-JNiOCKg",
        "outputId": "85515c01-12d9-4489-fa7c-b052cb9bd314"
      },
      "execution_count": 20,
      "outputs": [
        {
          "output_type": "stream",
          "name": "stdout",
          "text": [
            "Fahrenheit temperatures: [32, 45, 50, 72, 100, 212]\n",
            "Celsius temperatures: [0.0, 7.222222222222222, 10.0, 22.22222222222222, 37.77777777777778, 100.0]\n"
          ]
        }
      ]
    },
    {
      "cell_type": "code",
      "source": [
        "#18. Create a program to print the common elements from two lists using a `for` loop.\n",
        "# Two lists to find the common elements\n",
        "list1 = [1, 2, 3, 4, 5]\n",
        "list2 = [4, 5, 6, 7, 8]\n",
        "\n",
        "# List to store common elements\n",
        "common_elements = []\n",
        "\n",
        "# Using a for loop to find common elements\n",
        "for element in list1:\n",
        "    if element in list2:\n",
        "        common_elements.append(element)\n",
        "\n",
        "# Displaying the common elements\n",
        "print(\"Common elements:\", common_elements)\n"
      ],
      "metadata": {
        "colab": {
          "base_uri": "https://localhost:8080/"
        },
        "id": "JW8b3TVpOIH2",
        "outputId": "5d8edbe6-be88-4a4d-99b1-5dabf345d399"
      },
      "execution_count": 21,
      "outputs": [
        {
          "output_type": "stream",
          "name": "stdout",
          "text": [
            "Common elements: [4, 5]\n"
          ]
        }
      ]
    },
    {
      "cell_type": "code",
      "source": [
        "#19. Develop a program that prints the pattern of right-angled triangles using a `for` loop. Use ‘*’ to draw the pattern\n",
        "# Number of rows for the right-angled triangle\n",
        "n = 5\n",
        "\n",
        "# Loop to print the pattern\n",
        "for i in range(1, n + 1):\n",
        "    print('*' * i)\n"
      ],
      "metadata": {
        "colab": {
          "base_uri": "https://localhost:8080/"
        },
        "id": "CVr30tQ3OOEg",
        "outputId": "f3243bd9-edab-451e-d876-946b5ff2b99c"
      },
      "execution_count": 22,
      "outputs": [
        {
          "output_type": "stream",
          "name": "stdout",
          "text": [
            "*\n",
            "**\n",
            "***\n",
            "****\n",
            "*****\n"
          ]
        }
      ]
    },
    {
      "cell_type": "code",
      "source": [
        "#20. Write a program to find the greatest common divisor (GCD) of two numbers using a `for` loop.\n",
        "# Function to find the GCD of two numbers using a for loop\n",
        "def gcd(a, b):\n",
        "    # Find the smaller of the two numbers\n",
        "    smaller = min(a, b)\n",
        "\n",
        "    # Loop to find the GCD\n",
        "    for i in range(smaller, 0, -1):\n",
        "        if a % i == 0 and b % i == 0:\n",
        "            return i  # Return the GCD\n",
        "\n",
        "# Input from user\n",
        "num1 = int(input(\"Enter the first number: \"))\n",
        "num2 = int(input(\"Enter the second number: \"))\n",
        "\n",
        "# Call the function and display the result\n",
        "result = gcd(num1, num2)\n",
        "print(f\"The GCD of {num1} and {num2} is {result}\")\n"
      ],
      "metadata": {
        "colab": {
          "base_uri": "https://localhost:8080/"
        },
        "id": "59EUKe2wOXLN",
        "outputId": "8caae00a-aed4-430e-897d-d7a7d5439c02"
      },
      "execution_count": 23,
      "outputs": [
        {
          "output_type": "stream",
          "name": "stdout",
          "text": [
            "Enter the first number: 36\n",
            "Enter the second number: 60\n",
            "The GCD of 36 and 60 is 12\n"
          ]
        }
      ]
    },
    {
      "cell_type": "code",
      "source": [
        "#Advanced Level:"
      ],
      "metadata": {
        "id": "0vASI9A9Oe4X"
      },
      "execution_count": null,
      "outputs": []
    },
    {
      "cell_type": "code",
      "source": [
        "#21. Create a program that calculates the sum of the digits of numbers in a list using a list comprehension.\n",
        "# List of numbers\n",
        "numbers = [123, 456, 789, 12, 34]\n",
        "\n",
        "# Using list comprehension to calculate the sum of digits for each number\n",
        "sum_of_digits = [sum(int(digit) for digit in str(num)) for num in numbers]\n",
        "\n",
        "# Displaying the sum of digits for each number\n",
        "print(\"Sum of digits for each number:\", sum_of_digits)\n"
      ],
      "metadata": {
        "colab": {
          "base_uri": "https://localhost:8080/"
        },
        "id": "y3-yNlebOhQv",
        "outputId": "9ddbfe9a-64e4-450e-f08a-2f631a81d681"
      },
      "execution_count": 24,
      "outputs": [
        {
          "output_type": "stream",
          "name": "stdout",
          "text": [
            "Sum of digits for each number: [6, 15, 24, 3, 7]\n"
          ]
        }
      ]
    },
    {
      "cell_type": "code",
      "source": [
        "#22. Write a program to find the prime factors of a given number using a `for` loop and list comprehension.\n",
        "# Function to find prime factors of a number\n",
        "def prime_factors(n):\n",
        "    factors = [i for i in range(2, n + 1) if n % i == 0 and all(i % j != 0 for j in range(2, i))]\n",
        "    return factors\n",
        "\n",
        "# Input from user\n",
        "num = int(input(\"Enter a number: \"))\n",
        "\n",
        "# Get the prime factors and display them\n",
        "factors = prime_factors(num)\n",
        "print(f\"The prime factors of {num} are: {factors}\")\n"
      ],
      "metadata": {
        "colab": {
          "base_uri": "https://localhost:8080/"
        },
        "id": "Ib1zAeIEOmO_",
        "outputId": "add9788b-adba-4a8b-8769-1908e4600dac"
      },
      "execution_count": 25,
      "outputs": [
        {
          "output_type": "stream",
          "name": "stdout",
          "text": [
            "Enter a number: 56\n",
            "The prime factors of 56 are: [2, 7]\n"
          ]
        }
      ]
    },
    {
      "cell_type": "code",
      "source": [
        "#23. Develop a program that extracts unique elements from a list and stores them in a new list using a list comprehension.\n",
        "# List with duplicate elements\n",
        "numbers = [1, 2, 3, 4, 5, 2, 3, 6, 7, 8, 1]\n",
        "\n",
        "# Using list comprehension to extract unique elements\n",
        "unique_elements = [num for num in numbers if numbers.count(num) == 1]\n",
        "\n",
        "# Displaying the unique elements\n",
        "print(\"Unique elements:\", unique_elements)\n"
      ],
      "metadata": {
        "colab": {
          "base_uri": "https://localhost:8080/"
        },
        "id": "niIWjlq7Os8w",
        "outputId": "87620759-d66b-48e5-d651-d7735a866b1c"
      },
      "execution_count": 26,
      "outputs": [
        {
          "output_type": "stream",
          "name": "stdout",
          "text": [
            "Unique elements: [4, 5, 6, 7, 8]\n"
          ]
        }
      ]
    },
    {
      "cell_type": "code",
      "source": [
        "#24. Create a program that generates a list of all palindromic numbers up to a specified limit using a list comprehension.\n",
        "# Function to check if a number is palindromic\n",
        "def is_palindrome(num):\n",
        "    return str(num) == str(num)[::-1]\n",
        "\n",
        "# Specify the limit\n",
        "limit = int(input(\"Enter the limit: \"))\n",
        "\n",
        "# Using list comprehension to generate palindromic numbers\n",
        "palindromic_numbers = [num for num in range(limit + 1) if is_palindrome(num)]\n",
        "\n",
        "# Displaying the palindromic numbers\n",
        "print(f\"Palindromic numbers up to {limit} are: {palindromic_numbers}\")\n"
      ],
      "metadata": {
        "colab": {
          "base_uri": "https://localhost:8080/"
        },
        "id": "Cy3tRLnMO0Vn",
        "outputId": "1cba93c7-9689-4ac6-98ef-681acfda4198"
      },
      "execution_count": 27,
      "outputs": [
        {
          "output_type": "stream",
          "name": "stdout",
          "text": [
            "Enter the limit: 100\n",
            "Palindromic numbers up to 100 are: [0, 1, 2, 3, 4, 5, 6, 7, 8, 9, 11, 22, 33, 44, 55, 66, 77, 88, 99]\n"
          ]
        }
      ]
    },
    {
      "cell_type": "code",
      "source": [
        "#25. Write a program to flatten a nested list using list comprehension.\n",
        "# Nested list\n",
        "nested_list = [[1, 2, 3], [4, 5], [6, 7, 8]]\n",
        "\n",
        "# Flattening the nested list using list comprehension\n",
        "flattened_list = [item for sublist in nested_list for item in sublist]\n",
        "\n",
        "# Displaying the flattened list\n",
        "print(\"Flattened list:\", flattened_list)\n"
      ],
      "metadata": {
        "colab": {
          "base_uri": "https://localhost:8080/"
        },
        "id": "U8o6EdinO8Qw",
        "outputId": "4bfc71d6-6e39-481b-cc66-f20c7e8cb1ed"
      },
      "execution_count": 28,
      "outputs": [
        {
          "output_type": "stream",
          "name": "stdout",
          "text": [
            "Flattened list: [1, 2, 3, 4, 5, 6, 7, 8]\n"
          ]
        }
      ]
    },
    {
      "cell_type": "code",
      "source": [
        "#26. Develop a program that computes the sum of even and odd numbers in a list separately using list comprehension.\n",
        "# List of numbers\n",
        "numbers = [1, 2, 3, 4, 5, 6, 7, 8, 9, 10]\n",
        "\n",
        "# Using list comprehension to compute the sum of even numbers\n",
        "even_sum = sum([num for num in numbers if num % 2 == 0])\n",
        "\n",
        "# Using list comprehension to compute the sum of odd numbers\n",
        "odd_sum = sum([num for num in numbers if num % 2 != 0])\n",
        "\n",
        "# Displaying the results\n",
        "print(f\"Sum of even numbers: {even_sum}\")\n",
        "print(f\"Sum of odd numbers: {odd_sum}\")\n"
      ],
      "metadata": {
        "colab": {
          "base_uri": "https://localhost:8080/"
        },
        "id": "fIVlfK-VPCjl",
        "outputId": "6d189e36-894f-4239-910e-6b1fb02db028"
      },
      "execution_count": 29,
      "outputs": [
        {
          "output_type": "stream",
          "name": "stdout",
          "text": [
            "Sum of even numbers: 30\n",
            "Sum of odd numbers: 25\n"
          ]
        }
      ]
    },
    {
      "cell_type": "code",
      "source": [
        "#27. Create a program that generates a list of squares of odd numbers between 1 and 10 using list comprehension.\n",
        "# Generating squares of odd numbers between 1 and 10 using list comprehension\n",
        "squares_of_odd_numbers = [num ** 2 for num in range(1, 11) if num % 2 != 0]\n",
        "\n",
        "# Displaying the list of squares\n",
        "print(\"Squares of odd numbers between 1 and 10:\", squares_of_odd_numbers)\n"
      ],
      "metadata": {
        "colab": {
          "base_uri": "https://localhost:8080/"
        },
        "id": "sfYRVv8oPKEW",
        "outputId": "4834a0d2-e26f-42c0-ae68-76bf465ba6ed"
      },
      "execution_count": 30,
      "outputs": [
        {
          "output_type": "stream",
          "name": "stdout",
          "text": [
            "Squares of odd numbers between 1 and 10: [1, 9, 25, 49, 81]\n"
          ]
        }
      ]
    },
    {
      "cell_type": "code",
      "source": [
        "#28. Write a program that combines two lists into a dictionary using list comprehension.\n",
        "# Two lists\n",
        "keys = ['a', 'b', 'c', 'd']\n",
        "values = [1, 2, 3, 4]\n",
        "\n",
        "# Combining the two lists into a dictionary using list comprehension\n",
        "combined_dict = {keys[i]: values[i] for i in range(len(keys))}\n",
        "\n",
        "# Displaying the combined dictionary\n",
        "print(\"Combined dictionary:\", combined_dict)\n"
      ],
      "metadata": {
        "colab": {
          "base_uri": "https://localhost:8080/"
        },
        "id": "mSDPdz0-PRel",
        "outputId": "4133d827-66b3-4feb-9fd9-a7bb019e91ae"
      },
      "execution_count": 31,
      "outputs": [
        {
          "output_type": "stream",
          "name": "stdout",
          "text": [
            "Combined dictionary: {'a': 1, 'b': 2, 'c': 3, 'd': 4}\n"
          ]
        }
      ]
    },
    {
      "cell_type": "code",
      "source": [
        "#29. Develop a program that extracts the vowels from a string and stores them in a list using list comprehension.\n",
        "# Input string\n",
        "input_string = input(\"Enter a string: \")\n",
        "\n",
        "# Extracting vowels from the string using list comprehension\n",
        "vowels = [char for char in input_string if char.lower() in 'aeiou']\n",
        "\n",
        "# Displaying the list of vowels\n",
        "print(\"Vowels in the string:\", vowels)\n"
      ],
      "metadata": {
        "colab": {
          "base_uri": "https://localhost:8080/"
        },
        "id": "JJXVB7JyPWeO",
        "outputId": "d8ddca17-3c1b-4925-f2d7-5ce7f2dd825b"
      },
      "execution_count": 32,
      "outputs": [
        {
          "output_type": "stream",
          "name": "stdout",
          "text": [
            "Enter a string: Hello World\n",
            "Vowels in the string: ['e', 'o', 'o']\n"
          ]
        }
      ]
    },
    {
      "cell_type": "code",
      "source": [
        "#30. Create a program that removes all non-numeric characters from a list of strings using list comprehension.\n",
        "# List of strings\n",
        "string_list = [\"abc123\", \"45def\", \"gh67i\", \"89jkl\", \"mno0\"]\n",
        "\n",
        "# Removing non-numeric characters from each string using list comprehension\n",
        "numeric_strings = [''.join([char for char in string if char.isdigit()]) for string in string_list]\n",
        "\n",
        "# Displaying the list of strings with non-numeric characters removed\n",
        "print(\"List with only numeric characters:\", numeric_strings)\n"
      ],
      "metadata": {
        "colab": {
          "base_uri": "https://localhost:8080/"
        },
        "id": "1RFNlYpoPiW2",
        "outputId": "26d156ac-1baa-4544-cdd0-47fbd88ddf66"
      },
      "execution_count": 33,
      "outputs": [
        {
          "output_type": "stream",
          "name": "stdout",
          "text": [
            "List with only numeric characters: ['123', '45', '67', '89', '0']\n"
          ]
        }
      ]
    }
  ]
}